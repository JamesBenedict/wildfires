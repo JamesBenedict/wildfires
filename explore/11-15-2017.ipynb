{
 "cells": [
  {
   "cell_type": "markdown",
   "metadata": {},
   "source": [
    "Data sources\n",
    "\n",
    "https://www.mtbs.gov/project-overview\n",
    "https://www.mtbs.gov/articles/announcement/data-release-may-1-2017\n",
    "https://www.mtbs.gov/viewer/index.html\n",
    "https://www.mtbs.gov/direct-download\n",
    "https://www.geomac.gov/\n",
    "http://www.ospo.noaa.gov/Products/land/hms.html\n",
    "https://earthdata.nasa.gov/earth-observation-data/near-real-time/firms/active-fire-data\n",
    "https://tinyletter.com/data-is-plural/letters/data-is-plural-2016-07-20-edition\n",
    "\n",
    "Are we seeing more wildfires:\n",
    "    Wildfire season\n",
    "    Acreage burned \n",
    "    Frequency of fires\n",
    "\n",
    "Time period\n",
    "    Annually\n",
    "    Five-years\n"
   ]
  },
  {
   "cell_type": "code",
   "execution_count": 2,
   "metadata": {
    "collapsed": true
   },
   "outputs": [],
   "source": [
    "import pandas as pd\n",
    "import numpy as np\n",
    "import matplotlib.pyplot as plt\n",
    "%matplotlib inline"
   ]
  },
  {
   "cell_type": "code",
   "execution_count": 3,
   "metadata": {
    "collapsed": false
   },
   "outputs": [
    {
     "data": {
      "text/html": [
       "<div>\n",
       "<table border=\"1\" class=\"dataframe\">\n",
       "  <thead>\n",
       "    <tr style=\"text-align: right;\">\n",
       "      <th></th>\n",
       "      <th>Fire_ID</th>\n",
       "      <th>Fire_Name</th>\n",
       "      <th>Year</th>\n",
       "      <th>ig_date</th>\n",
       "      <th>Acres</th>\n",
       "      <th>FireType</th>\n",
       "      <th>orig_ogc_fid</th>\n",
       "    </tr>\n",
       "  </thead>\n",
       "  <tbody>\n",
       "    <tr>\n",
       "      <th>0</th>\n",
       "      <td>AK5674215793820060522</td>\n",
       "      <td>MESHIK RIVER</td>\n",
       "      <td>2006</td>\n",
       "      <td>2006-05-22</td>\n",
       "      <td>1520</td>\n",
       "      <td>Wildfire</td>\n",
       "      <td>0</td>\n",
       "    </tr>\n",
       "    <tr>\n",
       "      <th>1</th>\n",
       "      <td>AK5759815753720050529</td>\n",
       "      <td>PILOT POINT</td>\n",
       "      <td>2005</td>\n",
       "      <td>2005-05-29</td>\n",
       "      <td>4482</td>\n",
       "      <td>Wildfire</td>\n",
       "      <td>1</td>\n",
       "    </tr>\n",
       "    <tr>\n",
       "      <th>2</th>\n",
       "      <td>AK5761615232120150828</td>\n",
       "      <td>TWIN CREEKS</td>\n",
       "      <td>2015</td>\n",
       "      <td>2015-08-28</td>\n",
       "      <td>3419</td>\n",
       "      <td>Wildfire</td>\n",
       "      <td>2</td>\n",
       "    </tr>\n",
       "    <tr>\n",
       "      <th>3</th>\n",
       "      <td>AK5884115754320150622</td>\n",
       "      <td>COPENHAGEN CREEK</td>\n",
       "      <td>2015</td>\n",
       "      <td>2015-06-22</td>\n",
       "      <td>5335</td>\n",
       "      <td>Wildfire</td>\n",
       "      <td>3</td>\n",
       "    </tr>\n",
       "    <tr>\n",
       "      <th>4</th>\n",
       "      <td>AK5884415640120150621</td>\n",
       "      <td>PAULS CREEK</td>\n",
       "      <td>2015</td>\n",
       "      <td>2015-06-21</td>\n",
       "      <td>9684</td>\n",
       "      <td>Wildfire</td>\n",
       "      <td>4</td>\n",
       "    </tr>\n",
       "  </tbody>\n",
       "</table>\n",
       "</div>"
      ],
      "text/plain": [
       "                 Fire_ID         Fire_Name  Year     ig_date  Acres  FireType  \\\n",
       "0  AK5674215793820060522      MESHIK RIVER  2006  2006-05-22   1520  Wildfire   \n",
       "1  AK5759815753720050529       PILOT POINT  2005  2005-05-29   4482  Wildfire   \n",
       "2  AK5761615232120150828       TWIN CREEKS  2015  2015-08-28   3419  Wildfire   \n",
       "3  AK5884115754320150622  COPENHAGEN CREEK  2015  2015-06-22   5335  Wildfire   \n",
       "4  AK5884415640120150621       PAULS CREEK  2015  2015-06-21   9684  Wildfire   \n",
       "\n",
       "   orig_ogc_fid  \n",
       "0             0  \n",
       "1             1  \n",
       "2             2  \n",
       "3             3  \n",
       "4             4  "
      ]
     },
     "execution_count": 3,
     "metadata": {},
     "output_type": "execute_result"
    }
   ],
   "source": [
    "data_path = \"../data/\"\n",
    "per = pd.read_csv(data_path+'perimeters.csv')\n",
    "per.head()"
   ]
  },
  {
   "cell_type": "code",
   "execution_count": 4,
   "metadata": {
    "collapsed": false
   },
   "outputs": [
    {
     "data": {
      "text/plain": [
       "Fire_ID         object\n",
       "Fire_Name       object\n",
       "Year             int64\n",
       "ig_date         object\n",
       "Acres            int64\n",
       "FireType        object\n",
       "orig_ogc_fid     int64\n",
       "dtype: object"
      ]
     },
     "execution_count": 4,
     "metadata": {},
     "output_type": "execute_result"
    }
   ],
   "source": [
    "per.dtypes"
   ]
  },
  {
   "cell_type": "code",
   "execution_count": 5,
   "metadata": {
    "collapsed": false
   },
   "outputs": [
    {
     "data": {
      "text/plain": [
       "1985"
      ]
     },
     "execution_count": 5,
     "metadata": {},
     "output_type": "execute_result"
    }
   ],
   "source": [
    "# Filtering data\n",
    "acres_gt1000 = per[\"Acres\"] > 999\n",
    "wildfire_type =  per['FireType'].astype(np.str) == 'Wildfire'\n",
    "year = per['Year'] > 1984\n",
    "per = per[wildfire_type & acres_gt1000 & year ]\n",
    "\n",
    "per.head()\n",
    "min(per['Year'])\n",
    "\n"
   ]
  },
  {
   "cell_type": "code",
   "execution_count": 6,
   "metadata": {
    "collapsed": false
   },
   "outputs": [
    {
     "name": "stdout",
     "output_type": "stream",
     "text": [
      "Year\n",
      "1985    352\n",
      "1986    241\n",
      "1987    349\n",
      "1988    332\n",
      "1989    244\n",
      "1990    182\n",
      "1991    228\n",
      "1992    186\n",
      "1993    165\n",
      "1994    448\n",
      "1995    228\n",
      "1996    446\n",
      "1997    116\n",
      "1998    253\n",
      "1999    454\n",
      "2000    595\n",
      "2001    357\n",
      "2002    371\n",
      "2003    328\n",
      "2004    239\n",
      "2005    543\n",
      "2006    688\n",
      "2007    459\n",
      "2008    394\n",
      "2009    348\n",
      "2010    271\n",
      "2011    772\n",
      "2012    528\n",
      "2013    288\n",
      "2014    246\n",
      "2015    509\n",
      "Name: Year, dtype: int64\n"
     ]
    },
    {
     "data": {
      "text/plain": [
       "<matplotlib.axes._subplots.AxesSubplot at 0x144aba900b8>"
      ]
     },
     "execution_count": 6,
     "metadata": {},
     "output_type": "execute_result"
    },
    {
     "data": {
      "image/png": "[encoded data removed]",
      "text/plain": [
       "<matplotlib.figure.Figure at 0x144aba31e80>"
      ]
     },
     "metadata": {},
     "output_type": "display_data"
    }
   ],
   "source": [
    "# Frequency of fires\n",
    "by_year = per.groupby(per[\"Year\"])[\"Year\"].count()\n",
    "print(by_year)\n",
    "by_year.plot.barh()"
   ]
  },
  {
   "cell_type": "code",
   "execution_count": null,
   "metadata": {
    "collapsed": false
   },
   "outputs": [],
   "source": []
  },
  {
   "cell_type": "code",
   "execution_count": 7,
   "metadata": {
    "collapsed": false
   },
   "outputs": [
    {
     "name": "stdout",
     "output_type": "stream",
     "text": [
      "1986\n"
     ]
    },
    {
     "data": {
      "text/plain": [
       "1990"
      ]
     },
     "execution_count": 7,
     "metadata": {},
     "output_type": "execute_result"
    }
   ],
   "source": [
    "lw = per['Year'] >= 1986\n",
    "hg = per['Year'] <= 1990\n",
    "ninety = per[lw & hg]\n",
    "print(min(ninety['Year']))\n",
    "max(ninety['Year'])"
   ]
  },
  {
   "cell_type": "code",
   "execution_count": 8,
   "metadata": {
    "collapsed": false
   },
   "outputs": [
    {
     "name": "stdout",
     "output_type": "stream",
     "text": [
      "1991\n"
     ]
    },
    {
     "data": {
      "text/plain": [
       "1995"
      ]
     },
     "execution_count": 8,
     "metadata": {},
     "output_type": "execute_result"
    }
   ],
   "source": [
    "lw = per['Year'] >= 1991\n",
    "hg = per['Year'] <= 1995\n",
    "ninety5 = per[lw & hg]\n",
    "print(min(ninety5['Year']))\n",
    "max(ninety5['Year'])"
   ]
  },
  {
   "cell_type": "code",
   "execution_count": 9,
   "metadata": {
    "collapsed": false
   },
   "outputs": [
    {
     "name": "stdout",
     "output_type": "stream",
     "text": [
      "1996\n"
     ]
    },
    {
     "data": {
      "text/plain": [
       "2000"
      ]
     },
     "execution_count": 9,
     "metadata": {},
     "output_type": "execute_result"
    }
   ],
   "source": [
    "lw = per['Year'] >= 1996\n",
    "hg = per['Year'] <= 2000\n",
    "two000 = per[lw & hg]\n",
    "print(min(two000['Year']))\n",
    "max(two000['Year'])"
   ]
  },
  {
   "cell_type": "code",
   "execution_count": 10,
   "metadata": {
    "collapsed": false
   },
   "outputs": [
    {
     "name": "stdout",
     "output_type": "stream",
     "text": [
      "2001\n"
     ]
    },
    {
     "data": {
      "text/plain": [
       "2005"
      ]
     },
     "execution_count": 10,
     "metadata": {},
     "output_type": "execute_result"
    }
   ],
   "source": [
    "lw = per['Year'] >= 2001\n",
    "hg = per['Year'] <= 2005\n",
    "two005 = per[lw & hg]\n",
    "print(min(two005['Year']))\n",
    "max(two005['Year'])"
   ]
  },
  {
   "cell_type": "code",
   "execution_count": 11,
   "metadata": {
    "collapsed": false
   },
   "outputs": [
    {
     "name": "stdout",
     "output_type": "stream",
     "text": [
      "2006\n"
     ]
    },
    {
     "data": {
      "text/plain": [
       "2010"
      ]
     },
     "execution_count": 11,
     "metadata": {},
     "output_type": "execute_result"
    }
   ],
   "source": [
    "lw = per['Year'] >= 2006\n",
    "hg = per['Year'] <= 2010\n",
    "two010 = per[lw & hg]\n",
    "print(min(two010['Year']))\n",
    "max(two010['Year'])"
   ]
  },
  {
   "cell_type": "code",
   "execution_count": 12,
   "metadata": {
    "collapsed": false
   },
   "outputs": [
    {
     "name": "stdout",
     "output_type": "stream",
     "text": [
      "2011\n"
     ]
    },
    {
     "data": {
      "text/plain": [
       "2015"
      ]
     },
     "execution_count": 12,
     "metadata": {},
     "output_type": "execute_result"
    }
   ],
   "source": [
    "lw = per['Year'] >= 2011\n",
    "hg = per['Year'] <= 2015\n",
    "two015 = per[lw & hg]\n",
    "print(min(two015['Year']))\n",
    "max(two015['Year'])"
   ]
  },
  {
   "cell_type": "code",
   "execution_count": 19,
   "metadata": {
    "collapsed": false
   },
   "outputs": [
    {
     "name": "stdout",
     "output_type": "stream",
     "text": [
      "1996 - 2005 : 3702\n",
      "1991 - 1995 : 1255\n",
      "1996 - 2000 : 1864\n",
      "2001 - 2005 : 1838\n",
      "2006 - 2010 : 2160\n",
      "2011 - 2015 : 2343\n"
     ]
    },
    {
     "data": {
      "text/plain": [
       "<matplotlib.axes._subplots.AxesSubplot at 0x144ab485160>"
      ]
     },
     "execution_count": 19,
     "metadata": {},
     "output_type": "execute_result"
    },
    {
     "data": {
      "image/png": "[encoded data removed]",
      "text/plain": [
       "<matplotlib.figure.Figure at 0x144ab58b4a8>"
      ]
     },
     "metadata": {},
     "output_type": "display_data"
    }
   ],
   "source": [
    "# frequency per 5 year period\n",
    "print(min(ninety['Year']), '-', max(ninety['Year']), ':', ninety[\"Year\"].count())\n",
    "print(min(ninety5['Year']), '-', max(ninety5['Year']), ':', ninety5[\"Year\"].count())\n",
    "print(min(two000['Year']), '-', max(two000['Year']), ':', two000[\"Year\"].count())\n",
    "print(min(two005['Year']), '-', max(two005['Year']), ':', two005[\"Year\"].count())\n",
    "print(min(two010['Year']), '-', max(two010['Year']), ':', two010[\"Year\"].count())\n",
    "print(min(two015['Year']), '-', max(two015['Year']), ':', two015[\"Year\"].count())\n",
    "per['Year'].hist(bins=6)"
   ]
  },
  {
   "cell_type": "code",
   "execution_count": 24,
   "metadata": {
    "collapsed": false
   },
   "outputs": [
    {
     "name": "stdout",
     "output_type": "stream",
     "text": [
      "2603\n"
     ]
    }
   ],
   "source": [
    "lw = per['Year'] >= 1986\n",
    "hg = per['Year'] <= 1995\n",
    "eighty = per[lw & hg]\n",
    "print( eighty[\"Year\"].count())"
   ]
  },
  {
   "cell_type": "code",
   "execution_count": 23,
   "metadata": {
    "collapsed": false
   },
   "outputs": [
    {
     "name": "stdout",
     "output_type": "stream",
     "text": [
      "3702\n"
     ]
    }
   ],
   "source": [
    "lw = per['Year'] >= 1996\n",
    "hg = per['Year'] <= 2005\n",
    "ninety = per[lw & hg]\n",
    "\n",
    "print( ninety[\"Year\"].count())"
   ]
  },
  {
   "cell_type": "code",
   "execution_count": 22,
   "metadata": {
    "collapsed": false
   },
   "outputs": [
    {
     "name": "stdout",
     "output_type": "stream",
     "text": [
      "4503\n"
     ]
    }
   ],
   "source": [
    "lw = per['Year'] >= 2006\n",
    "hg = per['Year'] <= 2015\n",
    "two = per[lw & hg]\n",
    "\n",
    "print( two[\"Year\"].count())"
   ]
  },
  {
   "cell_type": "code",
   "execution_count": 30,
   "metadata": {
    "collapsed": false
   },
   "outputs": [
    {
     "data": {
      "text/plain": [
       "[<matplotlib.lines.Line2D at 0x144acf40e48>]"
      ]
     },
     "execution_count": 30,
     "metadata": {},
     "output_type": "execute_result"
    },
    {
     "data": {
      "image/png": "[encoded data removed]",
      "text/plain": [
       "<matplotlib.figure.Figure at 0x144ab8a69b0>"
      ]
     },
     "metadata": {},
     "output_type": "display_data"
    }
   ],
   "source": [
    "x = [2603, 3702, 4503]\n",
    "plt.plot(x)"
   ]
  },
  {
   "cell_type": "code",
   "execution_count": 21,
   "metadata": {
    "collapsed": false
   },
   "outputs": [
    {
     "data": {
      "text/plain": [
       "<matplotlib.axes._subplots.AxesSubplot at 0x144ab664dd8>"
      ]
     },
     "execution_count": 21,
     "metadata": {},
     "output_type": "execute_result"
    },
    {
     "data": {
      "image/png": "[encoded data removed]",
      "text/plain": [
       "<matplotlib.figure.Figure at 0x144ab6b6a90>"
      ]
     },
     "metadata": {},
     "output_type": "display_data"
    }
   ],
   "source": [
    "per['Year'].hist(bins=3)"
   ]
  },
  {
   "cell_type": "code",
   "execution_count": 181,
   "metadata": {
    "collapsed": false
   },
   "outputs": [
    {
     "data": {
      "text/plain": [
       "<matplotlib.collections.PathCollection at 0x1c972249f98>"
      ]
     },
     "execution_count": 181,
     "metadata": {},
     "output_type": "execute_result"
    },
    {
     "data": {
      "image/png": "[encoded data removed]",
      "text/plain": [
       "<matplotlib.figure.Figure at 0x1c971f6be48>"
      ]
     },
     "metadata": {},
     "output_type": "display_data"
    }
   ],
   "source": [
    "# by_acres = per.groupby(per[\"Year\"])[\"Acres\"].sum()\n",
    "# print(acres)\n",
    "# acres.plot.barh()\n",
    "year_list = per['Year'].values.tolist()\n",
    "# acre_list = per['Acres'].values.tolist()\n",
    "acre_list = per['Acres'].values.tolist()\n",
    "\n",
    "plt.scatter(year_list, acre_list)"
   ]
  },
  {
   "cell_type": "code",
   "execution_count": 211,
   "metadata": {
    "collapsed": false
   },
   "outputs": [
    {
     "data": {
      "text/plain": [
       "<matplotlib.axes._subplots.AxesSubplot at 0x1c9739027f0>"
      ]
     },
     "execution_count": 211,
     "metadata": {},
     "output_type": "execute_result"
    },
    {
     "data": {
      "image/png": "[encoded data removed]",
      "text/plain": [
       "<matplotlib.figure.Figure at 0x1c973962668>"
      ]
     },
     "metadata": {},
     "output_type": "display_data"
    }
   ],
   "source": [
    "by_acres = per.groupby(per[\"Year\"])[\"Acres\"].sum()\n",
    "by_acres\n",
    "by_acres.plot.barh()\n",
    "# by_acres.hist(bins=5)\n",
    "# per['Acres'].hist(bins=25)"
   ]
  },
  {
   "cell_type": "code",
   "execution_count": 194,
   "metadata": {
    "collapsed": false
   },
   "outputs": [
    {
     "name": "stdout",
     "output_type": "stream",
     "text": [
      "1986 - 1990 : 11603829\n",
      "1991 - 1995 : 8509135\n",
      "1996 - 2000 : 17307722\n",
      "2001 - 2005 : 27870169\n",
      "2006 - 2010 : 24163697\n",
      "2011 - 2015 : 32068736\n"
     ]
    },
    {
     "data": {
      "text/plain": [
       "[<matplotlib.lines.Line2D at 0x1c9724451d0>]"
      ]
     },
     "execution_count": 194,
     "metadata": {},
     "output_type": "execute_result"
    },
    {
     "data": {
      "image/png": "[encoded data removed]",
      "text/plain": [
       "<matplotlib.figure.Figure at 0x1c9723c33c8>"
      ]
     },
     "metadata": {},
     "output_type": "display_data"
    }
   ],
   "source": [
    "print(min(ninety['Year']), '-', max(ninety['Year']), ':', ninety[\"Acres\"].sum())\n",
    "print(min(ninety5['Year']), '-', max(ninety5['Year']), ':', ninety5[\"Acres\"].sum())\n",
    "print(min(two000['Year']), '-', max(two000['Year']), ':', two000[\"Acres\"].sum())\n",
    "print(min(two005['Year']), '-', max(two005['Year']), ':', two005[\"Acres\"].sum())\n",
    "print(min(two010['Year']), '-', max(two010['Year']), ':', two010[\"Acres\"].sum())\n",
    "print(min(two015['Year']), '-', max(two015['Year']), ':', two015[\"Acres\"].sum())\n",
    "\n",
    "x = [11603829,8509135,17307722,27870169,24163697,32068736]\n",
    "plt.plot(x)\n"
   ]
  },
  {
   "cell_type": "code",
   "execution_count": 199,
   "metadata": {
    "collapsed": false
   },
   "outputs": [
    {
     "name": "stdout",
     "output_type": "stream",
     "text": [
      "1986-01-28 1990-11-29\n",
      "1991-02-05 1995-10-27\n",
      "1996-01-10 2000-12-27\n",
      "2001-01-03 2005-12-29\n",
      "2006-01-01 2010-12-22\n",
      "2011-01-01 2015-12-26\n"
     ]
    }
   ],
   "source": [
    "print(min(ninety['ig_date']), max(ninety['ig_date']) )\n",
    "print(min(ninety5['ig_date']), max(ninety5['ig_date']) )\n",
    "print(min(two000['ig_date']), max(two000['ig_date']) )\n",
    "print(min(two005['ig_date']), max(two005['ig_date']) )\n",
    "print(min(two010['ig_date']), max(two010['ig_date']) )\n",
    "print(min(two015['ig_date']), max(two015['ig_date']) )"
   ]
  },
  {
   "cell_type": "code",
   "execution_count": null,
   "metadata": {
    "collapsed": true
   },
   "outputs": [],
   "source": []
  }
 ],
 "metadata": {
  "anaconda-cloud": {},
  "kernelspec": {
   "display_name": "Python [Root]",
   "language": "python",
   "name": "Python [Root]"
  },
  "language_info": {
   "codemirror_mode": {
    "name": "ipython",
    "version": 3
   },
   "file_extension": ".py",
   "mimetype": "text/x-python",
   "name": "python",
   "nbconvert_exporter": "python",
   "pygments_lexer": "ipython3",
   "version": "3.5.2"
  }
 },
 "nbformat": 4,
 "nbformat_minor": 0
}
