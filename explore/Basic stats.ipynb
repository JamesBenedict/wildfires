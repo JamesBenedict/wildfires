{
 "cells": [
  {
   "cell_type": "code",
   "execution_count": 21,
   "metadata": {
    "collapsed": false
   },
   "outputs": [],
   "source": [
    "import pandas as pd\n",
    "import numpy as np\n",
    "import matplotlib.pyplot as plt\n",
    "%matplotlib inline\n",
    "\n",
    "\n"
   ]
  },
  {
   "cell_type": "code",
   "execution_count": 3,
   "metadata": {
    "collapsed": false
   },
   "outputs": [
    {
     "data": {
      "text/html": [
       "<div>\n",
       "<table border=\"1\" class=\"dataframe\">\n",
       "  <thead>\n",
       "    <tr style=\"text-align: right;\">\n",
       "      <th></th>\n",
       "      <th>Unnamed: 0</th>\n",
       "      <th>Fire_ID</th>\n",
       "      <th>FIRENAME</th>\n",
       "      <th>FIRE_YEAR</th>\n",
       "      <th>FIRE_MON</th>\n",
       "      <th>FIRE_DAY</th>\n",
       "      <th>LAT</th>\n",
       "      <th>LONG</th>\n",
       "      <th>P_ACRES</th>\n",
       "      <th>STATE</th>\n",
       "      <th>Fire_Type</th>\n",
       "      <th>datetime_str</th>\n",
       "      <th>Fire_Name</th>\n",
       "      <th>Year</th>\n",
       "      <th>ig_date</th>\n",
       "      <th>Acres</th>\n",
       "      <th>FireType</th>\n",
       "    </tr>\n",
       "  </thead>\n",
       "  <tbody>\n",
       "    <tr>\n",
       "      <th>0</th>\n",
       "      <td>0</td>\n",
       "      <td>AZ3603211215419980609</td>\n",
       "      <td>TOPEKA</td>\n",
       "      <td>1998</td>\n",
       "      <td>6</td>\n",
       "      <td>9</td>\n",
       "      <td>36.032</td>\n",
       "      <td>-112.154</td>\n",
       "      <td>2066</td>\n",
       "      <td>Arizona</td>\n",
       "      <td>WFU</td>\n",
       "      <td>1998-06-09</td>\n",
       "      <td>TOPEKA</td>\n",
       "      <td>1998</td>\n",
       "      <td>1998-06-09</td>\n",
       "      <td>2066</td>\n",
       "      <td>Wildland Fire Use</td>\n",
       "    </tr>\n",
       "    <tr>\n",
       "      <th>1</th>\n",
       "      <td>1</td>\n",
       "      <td>CA3502811950619950625</td>\n",
       "      <td>ELK</td>\n",
       "      <td>1995</td>\n",
       "      <td>6</td>\n",
       "      <td>25</td>\n",
       "      <td>35.028</td>\n",
       "      <td>-119.506</td>\n",
       "      <td>1810</td>\n",
       "      <td>California</td>\n",
       "      <td>WF</td>\n",
       "      <td>1995-06-25</td>\n",
       "      <td>ELK</td>\n",
       "      <td>1995</td>\n",
       "      <td>1995-06-25</td>\n",
       "      <td>1810</td>\n",
       "      <td>Wildfire</td>\n",
       "    </tr>\n",
       "    <tr>\n",
       "      <th>2</th>\n",
       "      <td>2</td>\n",
       "      <td>FL2776008141819841224</td>\n",
       "      <td>UNNAMED</td>\n",
       "      <td>1984</td>\n",
       "      <td>12</td>\n",
       "      <td>24</td>\n",
       "      <td>27.760</td>\n",
       "      <td>-81.418</td>\n",
       "      <td>1067</td>\n",
       "      <td>Florida</td>\n",
       "      <td>WF</td>\n",
       "      <td>1984-12-24</td>\n",
       "      <td>UNNAMED</td>\n",
       "      <td>1984</td>\n",
       "      <td>1984-12-24</td>\n",
       "      <td>1067</td>\n",
       "      <td>Wildfire</td>\n",
       "    </tr>\n",
       "    <tr>\n",
       "      <th>3</th>\n",
       "      <td>3</td>\n",
       "      <td>FL3034108205820040308</td>\n",
       "      <td>STEEL BRIDGE</td>\n",
       "      <td>2004</td>\n",
       "      <td>3</td>\n",
       "      <td>8</td>\n",
       "      <td>30.341</td>\n",
       "      <td>-82.058</td>\n",
       "      <td>808</td>\n",
       "      <td>Florida</td>\n",
       "      <td>WF</td>\n",
       "      <td>2004-03-08</td>\n",
       "      <td>STEEL BRIDGE</td>\n",
       "      <td>2004</td>\n",
       "      <td>2004-03-08</td>\n",
       "      <td>808</td>\n",
       "      <td>Wildfire</td>\n",
       "    </tr>\n",
       "    <tr>\n",
       "      <th>4</th>\n",
       "      <td>4</td>\n",
       "      <td>FL3039108733920000802</td>\n",
       "      <td>UNNAMED</td>\n",
       "      <td>2000</td>\n",
       "      <td>8</td>\n",
       "      <td>2</td>\n",
       "      <td>30.391</td>\n",
       "      <td>-87.339</td>\n",
       "      <td>777</td>\n",
       "      <td>Florida</td>\n",
       "      <td>WF</td>\n",
       "      <td>2000-08-02</td>\n",
       "      <td>UNNAMED</td>\n",
       "      <td>2000</td>\n",
       "      <td>2000-08-02</td>\n",
       "      <td>777</td>\n",
       "      <td>Wildfire</td>\n",
       "    </tr>\n",
       "  </tbody>\n",
       "</table>\n",
       "</div>"
      ],
      "text/plain": [
       "   Unnamed: 0                Fire_ID      FIRENAME  FIRE_YEAR  FIRE_MON  \\\n",
       "0           0  AZ3603211215419980609        TOPEKA       1998         6   \n",
       "1           1  CA3502811950619950625           ELK       1995         6   \n",
       "2           2  FL2776008141819841224       UNNAMED       1984        12   \n",
       "3           3  FL3034108205820040308  STEEL BRIDGE       2004         3   \n",
       "4           4  FL3039108733920000802       UNNAMED       2000         8   \n",
       "\n",
       "   FIRE_DAY     LAT     LONG  P_ACRES       STATE Fire_Type datetime_str  \\\n",
       "0         9  36.032 -112.154     2066     Arizona       WFU   1998-06-09   \n",
       "1        25  35.028 -119.506     1810  California        WF   1995-06-25   \n",
       "2        24  27.760  -81.418     1067     Florida        WF   1984-12-24   \n",
       "3         8  30.341  -82.058      808     Florida        WF   2004-03-08   \n",
       "4         2  30.391  -87.339      777     Florida        WF   2000-08-02   \n",
       "\n",
       "      Fire_Name  Year     ig_date  Acres           FireType  \n",
       "0        TOPEKA  1998  1998-06-09   2066  Wildland Fire Use  \n",
       "1           ELK  1995  1995-06-25   1810           Wildfire  \n",
       "2       UNNAMED  1984  1984-12-24   1067           Wildfire  \n",
       "3  STEEL BRIDGE  2004  2004-03-08    808           Wildfire  \n",
       "4       UNNAMED  2000  2000-08-02    777           Wildfire  "
      ]
     },
     "execution_count": 3,
     "metadata": {},
     "output_type": "execute_result"
    }
   ],
   "source": [
    "data_path = \"../data/\"\n",
    "wf = pd.read_csv(data_path+'wildfires.csv')\n",
    "# per = pd.read_csv(data_path+'perimeters.csv')\n",
    "# per.head()\n",
    "wf.head()\n"
   ]
  },
  {
   "cell_type": "code",
   "execution_count": 17,
   "metadata": {
    "collapsed": false
   },
   "outputs": [
    {
     "name": "stdout",
     "output_type": "stream",
     "text": [
      "2011    1708\n",
      "2010    1220\n",
      "2015    1152\n",
      "2006    1063\n",
      "2014    1001\n",
      "2008     991\n",
      "2009     964\n",
      "2012     895\n",
      "2005     828\n",
      "2000     792\n",
      "2007     787\n",
      "2013     672\n",
      "1999     637\n",
      "1996     635\n",
      "1994     607\n",
      "2001     545\n",
      "1985     529\n",
      "2003     518\n",
      "1987     503\n",
      "2002     468\n",
      "1988     435\n",
      "2004     405\n",
      "1998     399\n",
      "1991     369\n",
      "1986     346\n",
      "1989     331\n",
      "1995     324\n",
      "1992     315\n",
      "1993     247\n",
      "1990     246\n",
      "1997     211\n",
      "1984     197\n",
      "dtype: int64\n"
     ]
    },
    {
     "data": {
      "text/plain": [
       "<matplotlib.axes._subplots.AxesSubplot at 0x21b75b63518>"
      ]
     },
     "execution_count": 17,
     "metadata": {},
     "output_type": "execute_result"
    },
    {
     "data": {
      "image/png": "[encoded data removed]",
      "text/plain": [
       "<matplotlib.figure.Figure at 0x21b75b51e80>"
      ]
     },
     "metadata": {},
     "output_type": "display_data"
    }
   ],
   "source": [
    "# year_freq = wf['FIRE_YEAR'].value_counts()\n",
    "x = pd.value_counts(wf['FIRE_YEAR'].values, sort=True)\n",
    "print(x)\n",
    "x.plot.barh()\n"
   ]
  },
  {
   "cell_type": "code",
   "execution_count": 20,
   "metadata": {
    "collapsed": false
   },
   "outputs": [
    {
     "data": {
      "text/plain": [
       "<matplotlib.axes._subplots.AxesSubplot at 0x21b75ebe978>"
      ]
     },
     "execution_count": 20,
     "metadata": {},
     "output_type": "execute_result"
    },
    {
     "data": {
      "image/png": "[encoded data removed]",
      "text/plain": [
       "<matplotlib.figure.Figure at 0x21b75e92f60>"
      ]
     },
     "metadata": {},
     "output_type": "display_data"
    }
   ],
   "source": [
    "wf[\"FIRE_YEAR\"].hist()"
   ]
  },
  {
   "cell_type": "code",
   "execution_count": null,
   "metadata": {
    "collapsed": true
   },
   "outputs": [],
   "source": []
  }
 ],
 "metadata": {
  "anaconda-cloud": {},
  "kernelspec": {
   "display_name": "Python [Root]",
   "language": "python",
   "name": "Python [Root]"
  },
  "language_info": {
   "codemirror_mode": {
    "name": "ipython",
    "version": 3
   },
   "file_extension": ".py",
   "mimetype": "text/x-python",
   "name": "python",
   "nbconvert_exporter": "python",
   "pygments_lexer": "ipython3",
   "version": "3.5.2"
  }
 },
 "nbformat": 4,
 "nbformat_minor": 0
}
